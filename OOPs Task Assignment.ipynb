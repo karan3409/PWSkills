{
 "cells": [
  {
   "cell_type": "markdown",
   "id": "9c89a790",
   "metadata": {},
   "source": [
    "**[Q1]Create a vehicle class with an init method having instance\n",
    "    variables as name_of_vehicle, max_speed and average_of_vehicle.**"
   ]
  },
  {
   "cell_type": "code",
   "execution_count": 1,
   "id": "f3fe26d5",
   "metadata": {},
   "outputs": [],
   "source": [
    "class Vehicle:\n",
    "    \n",
    "    def __init__(self, name_of_vehicle, max_speed, average_of_vehicle):\n",
    "        \n",
    "        self.name_of_vehicle = name_of_vehicle\n",
    "        self.max_speed = max_speed\n",
    "        self.average_of_vehicle = average_of_vehicle"
   ]
  },
  {
   "cell_type": "markdown",
   "id": "99475c37",
   "metadata": {},
   "source": [
    "**[Q2]Create a child class car from the vehicle class created in Que 1,\n",
    "    which will inherit the vehicle class.\n",
    "    Create a method named seating_capacity which takes capacity as\n",
    "    an argument and returns the name of\n",
    "    the vehicle and its seating capacity.**\n"
   ]
  },
  {
   "cell_type": "code",
   "execution_count": 2,
   "id": "ba3dbf71",
   "metadata": {},
   "outputs": [],
   "source": [
    "class Child_class_car(Vehicle):\n",
    "    \n",
    "    def seating_capacity(self, seating_capacity):\n",
    "        \n",
    "        return f'car name is {self.name_of_vehicle} and its seating capacity is {seating_capacity}.'"
   ]
  },
  {
   "cell_type": "code",
   "execution_count": 3,
   "id": "8b6ef592",
   "metadata": {},
   "outputs": [],
   "source": [
    "check = Child_class_car('Jaguar', '260', '11')\n"
   ]
  },
  {
   "cell_type": "code",
   "execution_count": 4,
   "id": "d4890f5d",
   "metadata": {},
   "outputs": [
    {
     "data": {
      "text/plain": [
       "'car name is Jaguar and its seating capacity is 4.'"
      ]
     },
     "execution_count": 4,
     "metadata": {},
     "output_type": "execute_result"
    }
   ],
   "source": [
    "check.seating_capacity(4)"
   ]
  },
  {
   "cell_type": "markdown",
   "id": "fd67341f",
   "metadata": {},
   "source": [
    "**[Q3]What is multiple inheritance? Write a python code to demonstrate multiple inheritance**."
   ]
  },
  {
   "cell_type": "markdown",
   "id": "90fe6210",
   "metadata": {},
   "source": [
    "an object or class can inherit features from more than one parent object or parent class. It is distinct from single inheritance, where an object or class may only inherit from one particular object or class."
   ]
  },
  {
   "cell_type": "code",
   "execution_count": 5,
   "id": "29da408d",
   "metadata": {},
   "outputs": [],
   "source": [
    "class Class1:\n",
    "    \n",
    "    def testclass1(self):\n",
    "        return 'This is class 1 method'"
   ]
  },
  {
   "cell_type": "code",
   "execution_count": 6,
   "id": "dbd0a465",
   "metadata": {},
   "outputs": [],
   "source": [
    "class Class2:\n",
    "    \n",
    "    def testClass2(self):\n",
    "        return 'This is class 2 method'"
   ]
  },
  {
   "cell_type": "code",
   "execution_count": 7,
   "id": "65dfef42",
   "metadata": {},
   "outputs": [],
   "source": [
    "class Class3(Class1, Class2):\n",
    "    \n",
    "    def testClass3(self):\n",
    "        return 'This is class 3 method'"
   ]
  },
  {
   "cell_type": "code",
   "execution_count": 8,
   "id": "2ec04eb1",
   "metadata": {},
   "outputs": [],
   "source": [
    "obj = Class3()"
   ]
  },
  {
   "cell_type": "code",
   "execution_count": 9,
   "id": "29723d6a",
   "metadata": {},
   "outputs": [
    {
     "data": {
      "text/plain": [
       "'This is class 1 method'"
      ]
     },
     "execution_count": 9,
     "metadata": {},
     "output_type": "execute_result"
    }
   ],
   "source": [
    "obj.testclass1()"
   ]
  },
  {
   "cell_type": "code",
   "execution_count": 10,
   "id": "1de25f34",
   "metadata": {},
   "outputs": [
    {
     "data": {
      "text/plain": [
       "'This is class 2 method'"
      ]
     },
     "execution_count": 10,
     "metadata": {},
     "output_type": "execute_result"
    }
   ],
   "source": [
    "obj.testClass2()"
   ]
  },
  {
   "cell_type": "code",
   "execution_count": 11,
   "id": "12b26b93",
   "metadata": {},
   "outputs": [
    {
     "data": {
      "text/plain": [
       "'This is class 3 method'"
      ]
     },
     "execution_count": 11,
     "metadata": {},
     "output_type": "execute_result"
    }
   ],
   "source": [
    "obj.testClass3()\n"
   ]
  },
  {
   "cell_type": "markdown",
   "id": "c1581092",
   "metadata": {},
   "source": [
    "**[Q4]What are getter and setter in python? Create a class and create a getter and\n",
    "    a setter method in this class.**"
   ]
  },
  {
   "cell_type": "markdown",
   "id": "ddd2372e",
   "metadata": {},
   "source": [
    "Getter: A method that allows you to access an attribute in a given class.\n",
    "\n",
    "Setter: A method that allows you to set or mutate the value of an attribute in a class"
   ]
  },
  {
   "cell_type": "code",
   "execution_count": 12,
   "id": "3a099523",
   "metadata": {},
   "outputs": [],
   "source": [
    "class Student_detail:\n",
    "    \n",
    "    def __init__(self, age=0):\n",
    "        \n",
    "        self.__age = age\n",
    "        \n",
    "    def set_age(self, x):\n",
    "         self.__age =  x\n",
    "    \n",
    "    def get_age(self):\n",
    "        return self.__age"
   ]
  },
  {
   "cell_type": "code",
   "execution_count": 16,
   "id": "eab86626",
   "metadata": {},
   "outputs": [],
   "source": [
    "student1 = Student_detail(5)"
   ]
  },
  {
   "cell_type": "code",
   "execution_count": 17,
   "id": "d1c3bef3",
   "metadata": {},
   "outputs": [
    {
     "data": {
      "text/plain": [
       "5"
      ]
     },
     "execution_count": 17,
     "metadata": {},
     "output_type": "execute_result"
    }
   ],
   "source": [
    "student1.get_age()"
   ]
  },
  {
   "cell_type": "code",
   "execution_count": 18,
   "id": "00c76700",
   "metadata": {},
   "outputs": [],
   "source": [
    "student2 = Student_detail()"
   ]
  },
  {
   "cell_type": "code",
   "execution_count": 20,
   "id": "16bdc680",
   "metadata": {},
   "outputs": [
    {
     "data": {
      "text/plain": [
       "0"
      ]
     },
     "execution_count": 20,
     "metadata": {},
     "output_type": "execute_result"
    }
   ],
   "source": [
    "# retrieving age using getter\n",
    "student2.get_age()"
   ]
  },
  {
   "cell_type": "markdown",
   "id": "2c20ce37",
   "metadata": {},
   "source": [
    "**[Q5]What is method overriding in python? \n",
    "    Write a python code to demonstrate method overriding.**"
   ]
  },
  {
   "cell_type": "markdown",
   "id": "35157f64",
   "metadata": {},
   "source": [
    "Method overriding is a feature of object-oriented programming languages where the subclass or child class can provide the program with specific characteristics or a specific implementation process of data provided that are already defined in the parent class or superclass."
   ]
  },
  {
   "cell_type": "code",
   "execution_count": 21,
   "id": "8a539d4d",
   "metadata": {},
   "outputs": [
    {
     "name": "stdout",
     "output_type": "stream",
     "text": [
      "Inside Parent class\n",
      "Inside Child class\n"
     ]
    }
   ],
   "source": [
    "\n",
    "# Defining parent class\n",
    "class Parent():\n",
    "    # Constructor\n",
    "    def __init__(self):\n",
    "        self.value = \"Inside Parent class\"\n",
    "\n",
    "    # Parent's show method\n",
    "    def show(self):\n",
    "        print(self.value)\n",
    "\n",
    "# Defining child class\n",
    "class Child(Parent):\n",
    "\n",
    "    # Constructor\n",
    "    def __init__(self):\n",
    "        self.value = \"Inside Child class\"\n",
    "\n",
    "# Child's show method\n",
    "    def show(self):\n",
    "        print(self.value)\n",
    "\n",
    "\n",
    "\n",
    "obj1 = Parent()\n",
    "obj2 = Child()\n",
    "\n",
    "obj1.show()\n",
    "obj2.show()"
   ]
  },
  {
   "cell_type": "code",
   "execution_count": null,
   "id": "d58513af",
   "metadata": {},
   "outputs": [],
   "source": []
  }
 ],
 "metadata": {
  "kernelspec": {
   "display_name": "Python 3 (ipykernel)",
   "language": "python",
   "name": "python3"
  },
  "language_info": {
   "codemirror_mode": {
    "name": "ipython",
    "version": 3
   },
   "file_extension": ".py",
   "mimetype": "text/x-python",
   "name": "python",
   "nbconvert_exporter": "python",
   "pygments_lexer": "ipython3",
   "version": "3.11.5"
  }
 },
 "nbformat": 4,
 "nbformat_minor": 5
}
