{
 "cells": [
  {
   "cell_type": "markdown",
   "id": "2587ae8a",
   "metadata": {},
   "source": [
    "**[Q1]Create a python program to sort the given list of tuples based on integer value using a\n",
    "lambda function.\n",
    "[('Sachin Tendulkar', 34357), ('Ricky Ponting', 27483), ('Jack Kallis', 25534), ('Virat Kohli', 24936)]**"
   ]
  },
  {
   "cell_type": "code",
   "execution_count": 1,
   "id": "042ef3c7",
   "metadata": {},
   "outputs": [],
   "source": [
    "ptr = [('Sachin Tendulkar', 34357), ('Ricky Ponting', 27483), ('Jack Kallis', 25534), ('Virat Kohli', 24936)]"
   ]
  },
  {
   "cell_type": "code",
   "execution_count": 2,
   "id": "ea9dc0dd",
   "metadata": {},
   "outputs": [],
   "source": [
    "sorted_data = sorted(ptr,key = lambda x:x[1])"
   ]
  },
  {
   "cell_type": "code",
   "execution_count": 3,
   "id": "d3be7981",
   "metadata": {},
   "outputs": [
    {
     "data": {
      "text/plain": [
       "[('Virat Kohli', 24936),\n",
       " ('Jack Kallis', 25534),\n",
       " ('Ricky Ponting', 27483),\n",
       " ('Sachin Tendulkar', 34357)]"
      ]
     },
     "execution_count": 3,
     "metadata": {},
     "output_type": "execute_result"
    }
   ],
   "source": [
    "sorted_data"
   ]
  },
  {
   "cell_type": "markdown",
   "id": "5166d59b",
   "metadata": {},
   "source": [
    "**[Q2]Write a Python Program to find the squares of all the numbers in the\n",
    "given list of integers using\n",
    "lambda and map functions.\n",
    "[1, 2, 3, 4, 5, 6, 7, 8, 9, 10]**"
   ]
  },
  {
   "cell_type": "code",
   "execution_count": 4,
   "id": "a029cb7e",
   "metadata": {},
   "outputs": [
    {
     "data": {
      "text/plain": [
       "[1, 4, 9, 16, 25, 36, 49, 64, 81, 100]"
      ]
     },
     "execution_count": 4,
     "metadata": {},
     "output_type": "execute_result"
    }
   ],
   "source": [
    "ddr = [1, 2, 3, 4, 5, 6, 7, 8, 9, 10]\n",
    "list(map(lambda x: x**2,ddr))"
   ]
  },
  {
   "cell_type": "markdown",
   "id": "ac6ec7e1",
   "metadata": {},
   "source": [
    "**[Q4]Write a python program using reduce function to compute the product of a list\n",
    "containing numbers from 1 to 25.**"
   ]
  },
  {
   "cell_type": "code",
   "execution_count": 5,
   "id": "f6e49167",
   "metadata": {},
   "outputs": [],
   "source": [
    "lnk = [x for x in range(1,26)]"
   ]
  },
  {
   "cell_type": "code",
   "execution_count": 6,
   "id": "bba2c160",
   "metadata": {},
   "outputs": [
    {
     "data": {
      "text/plain": [
       "15511210043330985984000000"
      ]
     },
     "execution_count": 6,
     "metadata": {},
     "output_type": "execute_result"
    }
   ],
   "source": [
    "from functools import reduce\n",
    "reduce(lambda x, y : x*y,lnk)"
   ]
  },
  {
   "cell_type": "markdown",
   "id": "745d5851",
   "metadata": {},
   "source": [
    "**[Q5]Write a python program to filter the numbers in a given list that are \n",
    "divisible by 2 and 3 using the filter function.\n",
    "[2, 3, 6, 9, 27, 60, 90, 120, 55, 46]**"
   ]
  },
  {
   "cell_type": "code",
   "execution_count": 8,
   "id": "c439d979",
   "metadata": {},
   "outputs": [
    {
     "data": {
      "text/plain": [
       "[6, 60, 90, 120]"
      ]
     },
     "execution_count": 8,
     "metadata": {},
     "output_type": "execute_result"
    }
   ],
   "source": [
    "ltd = [2, 3, 6, 9, 27, 60, 90, 120, 55, 46]\n",
    "list(filter(lambda x: x%2==0 and x%3==0, lst2))"
   ]
  },
  {
   "cell_type": "markdown",
   "id": "49cec778",
   "metadata": {},
   "source": [
    "**[Q6]Write a python program to find palindromes in the given list of strings\n",
    "using lambda and filter function.\n",
    "['python', 'php', 'aba', 'radar', 'level']**"
   ]
  },
  {
   "cell_type": "code",
   "execution_count": 9,
   "id": "8c179174",
   "metadata": {},
   "outputs": [
    {
     "data": {
      "text/plain": [
       "['php', 'aba', 'radar', 'level']"
      ]
     },
     "execution_count": 9,
     "metadata": {},
     "output_type": "execute_result"
    }
   ],
   "source": [
    "ktr = ['python', 'php', 'aba', 'radar', 'level']\n",
    "list(filter(lambda x: x == x[::-1], ktr))"
   ]
  },
  {
   "cell_type": "code",
   "execution_count": null,
   "id": "23f7d1c3",
   "metadata": {},
   "outputs": [],
   "source": []
  }
 ],
 "metadata": {
  "kernelspec": {
   "display_name": "Python 3 (ipykernel)",
   "language": "python",
   "name": "python3"
  },
  "language_info": {
   "codemirror_mode": {
    "name": "ipython",
    "version": 3
   },
   "file_extension": ".py",
   "mimetype": "text/x-python",
   "name": "python",
   "nbconvert_exporter": "python",
   "pygments_lexer": "ipython3",
   "version": "3.11.5"
  }
 },
 "nbformat": 4,
 "nbformat_minor": 5
}
