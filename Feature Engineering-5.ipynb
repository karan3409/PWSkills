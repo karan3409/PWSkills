{
 "cells": [
  {
   "cell_type": "markdown",
   "id": "9d82ef19",
   "metadata": {},
   "source": [
    "**[Q1]Pearson correlation coefficient is a measure of the linear relationship between two variables. Suppose you have collected data on the amount of time students spend studying for an exam and their final exam scores. Calculate the Pearson correlation coefficient between these two variables and interpret the result.**"
   ]
  },
  {
   "cell_type": "markdown",
   "id": "d200ad35",
   "metadata": {},
   "source": [
    "To calculate the Pearson correlation coefficient between the amount of time students spend studying and their final exam scores, you can use the following formula:\n",
    "\n",
    "Pearson correlation coefficient (r) = (Σ((x - x̄)(y - ȳ))) / (n σx σy)\n",
    "Where:\n",
    "\n",
    " - Σ denotes the sum of\n",
    " - x and y are the individual data points\n",
    " - x̄ and ȳ are the means of x and y\n",
    " - n is the number of data points\n",
    " - σx and σy are the standard deviations of x and y\n",
    " \n",
    " The result will be a number between -1 and 1.\n",
    "\n",
    " - If r is close to 1, it means there's a strong positive linear relationship between study time and exam scores.\n",
    " - If r is close to -1, it means there's a strong negative linear relationship.\n",
    " - If r is close to 0, it means there's little to no linear relationship."
   ]
  },
  {
   "cell_type": "code",
   "execution_count": 1,
   "id": "459fc533",
   "metadata": {},
   "outputs": [
    {
     "data": {
      "text/html": [
       "<div>\n",
       "<style scoped>\n",
       "    .dataframe tbody tr th:only-of-type {\n",
       "        vertical-align: middle;\n",
       "    }\n",
       "\n",
       "    .dataframe tbody tr th {\n",
       "        vertical-align: top;\n",
       "    }\n",
       "\n",
       "    .dataframe thead th {\n",
       "        text-align: right;\n",
       "    }\n",
       "</style>\n",
       "<table border=\"1\" class=\"dataframe\">\n",
       "  <thead>\n",
       "    <tr style=\"text-align: right;\">\n",
       "      <th></th>\n",
       "      <th>study_time</th>\n",
       "      <th>exam_score</th>\n",
       "    </tr>\n",
       "  </thead>\n",
       "  <tbody>\n",
       "    <tr>\n",
       "      <th>study_time</th>\n",
       "      <td>1.000000</td>\n",
       "      <td>0.920006</td>\n",
       "    </tr>\n",
       "    <tr>\n",
       "      <th>exam_score</th>\n",
       "      <td>0.920006</td>\n",
       "      <td>1.000000</td>\n",
       "    </tr>\n",
       "  </tbody>\n",
       "</table>\n",
       "</div>"
      ],
      "text/plain": [
       "            study_time  exam_score\n",
       "study_time    1.000000    0.920006\n",
       "exam_score    0.920006    1.000000"
      ]
     },
     "execution_count": 1,
     "metadata": {},
     "output_type": "execute_result"
    }
   ],
   "source": [
    "import pandas as pd\n",
    "data = {\n",
    "    'study_time':[3,2,1,8,6,0,5],\n",
    "    'exam_score':[65,50,20,83,78,10,70]\n",
    "}\n",
    "data = pd.DataFrame(data)\n",
    "data.corr(method='pearson')"
   ]
  },
  {
   "cell_type": "markdown",
   "id": "3a258120",
   "metadata": {},
   "source": [
    "Here,you can see there is a strong positive correlation."
   ]
  },
  {
   "cell_type": "markdown",
   "id": "f61a6b27",
   "metadata": {},
   "source": [
    "**[Q2]Spearman's rank correlation is a measure of the monotonic relationship between two variables. Suppose you have collected data on the amount of sleep individuals get each night and their overall job satisfaction level on a scale of 1 to 10. Calculate the Spearman's rank correlation between these two variables and interpret the result.**"
   ]
  },
  {
   "cell_type": "markdown",
   "id": "d933cd22",
   "metadata": {},
   "source": [
    "To calculate the Spearman's rank correlation between the amount of sleep individuals get each night and their overall job satisfaction level, you can follow these steps:\n",
    "\n",
    "  1)Rank the data for each variable separately, from lowest to highest.\n",
    "  2)Calculate the differences in ranks for each pair of data points.\n",
    "  3)Square each of these differences.\n",
    "  4)Sum up all the squared differences.\n",
    "  5)Use the formula:\n",
    "  \n",
    " Spearman's rank correlation (ρ) = 1 - (6 Σ(d^2)) / (n (n^2 - 1))\n",
    "  \n",
    "Where:\n",
    "\n",
    " - Σ denotes the sum of \n",
    " - d is the difference in ranks for each pair of data points\n",
    " - n is the number of data points\n",
    " \n",
    "The result will be a number between -1 and 1.\n",
    "\n",
    "  - If ρ is close to 1, it means there's a strong positive monotonic relationship between sleep and job satisfaction.\n",
    "  - If ρ is close to -1, it means there's a strong negative monotonic relationship.\n",
    "  - If ρ is close to 0, it means there's little to no monotonic relationship."
   ]
  },
  {
   "cell_type": "code",
   "execution_count": 2,
   "id": "4783364f",
   "metadata": {},
   "outputs": [
    {
     "data": {
      "text/html": [
       "<div>\n",
       "<style scoped>\n",
       "    .dataframe tbody tr th:only-of-type {\n",
       "        vertical-align: middle;\n",
       "    }\n",
       "\n",
       "    .dataframe tbody tr th {\n",
       "        vertical-align: top;\n",
       "    }\n",
       "\n",
       "    .dataframe thead th {\n",
       "        text-align: right;\n",
       "    }\n",
       "</style>\n",
       "<table border=\"1\" class=\"dataframe\">\n",
       "  <thead>\n",
       "    <tr style=\"text-align: right;\">\n",
       "      <th></th>\n",
       "      <th>sleep (in hrs)</th>\n",
       "      <th>job satisfaction level</th>\n",
       "    </tr>\n",
       "  </thead>\n",
       "  <tbody>\n",
       "    <tr>\n",
       "      <th>sleep (in hrs)</th>\n",
       "      <td>1.000000</td>\n",
       "      <td>0.751529</td>\n",
       "    </tr>\n",
       "    <tr>\n",
       "      <th>job satisfaction level</th>\n",
       "      <td>0.751529</td>\n",
       "      <td>1.000000</td>\n",
       "    </tr>\n",
       "  </tbody>\n",
       "</table>\n",
       "</div>"
      ],
      "text/plain": [
       "                        sleep (in hrs)  job satisfaction level\n",
       "sleep (in hrs)                1.000000                0.751529\n",
       "job satisfaction level        0.751529                1.000000"
      ]
     },
     "execution_count": 2,
     "metadata": {},
     "output_type": "execute_result"
    }
   ],
   "source": [
    "data = {\n",
    "    'sleep (in hrs)':[2,4,7,9,10,4,8,6],\n",
    "    'job satisfaction level':[1,3,6,8,7,3,9,8]\n",
    "}\n",
    "data = pd.DataFrame(data)\n",
    "data.corr(method='spearman')"
   ]
  },
  {
   "cell_type": "markdown",
   "id": "d456fadb",
   "metadata": {},
   "source": [
    "here,you can see the sleep and job satisfaction level is positively correlated"
   ]
  },
  {
   "cell_type": "markdown",
   "id": "d5df76db",
   "metadata": {},
   "source": [
    "**[Q3]Suppose you are conducting a study to examine the relationship between the number of hours of exercise per week and body mass index (BMI) in a sample of adults. You collected data on both variables for 50 participants. Calculate the Pearson correlation coefficient and the Spearman's rank correlation between these two variables and compare the results.**"
   ]
  },
  {
   "cell_type": "code",
   "execution_count": 3,
   "id": "2ae149c1",
   "metadata": {},
   "outputs": [],
   "source": [
    "import numpy as np\n",
    "import random"
   ]
  },
  {
   "cell_type": "code",
   "execution_count": 12,
   "id": "26e987bb",
   "metadata": {},
   "outputs": [],
   "source": [
    "def add_people(n):\n",
    "    no_of_hrs = []\n",
    "    BMI = []\n",
    "    for i in range(n):\n",
    "        hrs = random.randrange(1,10)\n",
    "        no_of_hrs.append(hrs)\n",
    "        bmi = random.randrange(40,140)\n",
    "        BMI.append(bmi)\n",
    "    return no_of_hrs,BMI"
   ]
  },
  {
   "cell_type": "code",
   "execution_count": 13,
   "id": "938a8485",
   "metadata": {},
   "outputs": [],
   "source": [
    "hrs,bmi = add_people(50)"
   ]
  },
  {
   "cell_type": "code",
   "execution_count": 14,
   "id": "0ad988c2",
   "metadata": {},
   "outputs": [],
   "source": [
    "data = {\n",
    "    'No_of_hrs' : hrs,\n",
    "    'BMI':bmi\n",
    "}"
   ]
  },
  {
   "cell_type": "code",
   "execution_count": 17,
   "id": "6504c13c",
   "metadata": {},
   "outputs": [],
   "source": [
    "import pandas as pd\n",
    "data = pd.DataFrame(data)"
   ]
  },
  {
   "cell_type": "code",
   "execution_count": 18,
   "id": "130caa76",
   "metadata": {},
   "outputs": [
    {
     "data": {
      "text/html": [
       "<div>\n",
       "<style scoped>\n",
       "    .dataframe tbody tr th:only-of-type {\n",
       "        vertical-align: middle;\n",
       "    }\n",
       "\n",
       "    .dataframe tbody tr th {\n",
       "        vertical-align: top;\n",
       "    }\n",
       "\n",
       "    .dataframe thead th {\n",
       "        text-align: right;\n",
       "    }\n",
       "</style>\n",
       "<table border=\"1\" class=\"dataframe\">\n",
       "  <thead>\n",
       "    <tr style=\"text-align: right;\">\n",
       "      <th></th>\n",
       "      <th>No_of_hrs</th>\n",
       "      <th>BMI</th>\n",
       "    </tr>\n",
       "  </thead>\n",
       "  <tbody>\n",
       "    <tr>\n",
       "      <th>0</th>\n",
       "      <td>4</td>\n",
       "      <td>42</td>\n",
       "    </tr>\n",
       "    <tr>\n",
       "      <th>1</th>\n",
       "      <td>9</td>\n",
       "      <td>100</td>\n",
       "    </tr>\n",
       "    <tr>\n",
       "      <th>2</th>\n",
       "      <td>4</td>\n",
       "      <td>84</td>\n",
       "    </tr>\n",
       "    <tr>\n",
       "      <th>3</th>\n",
       "      <td>4</td>\n",
       "      <td>80</td>\n",
       "    </tr>\n",
       "    <tr>\n",
       "      <th>4</th>\n",
       "      <td>8</td>\n",
       "      <td>64</td>\n",
       "    </tr>\n",
       "  </tbody>\n",
       "</table>\n",
       "</div>"
      ],
      "text/plain": [
       "   No_of_hrs  BMI\n",
       "0          4   42\n",
       "1          9  100\n",
       "2          4   84\n",
       "3          4   80\n",
       "4          8   64"
      ]
     },
     "execution_count": 18,
     "metadata": {},
     "output_type": "execute_result"
    }
   ],
   "source": [
    "data.head()"
   ]
  },
  {
   "cell_type": "code",
   "execution_count": 19,
   "id": "07d8dd04",
   "metadata": {},
   "outputs": [
    {
     "data": {
      "text/html": [
       "<div>\n",
       "<style scoped>\n",
       "    .dataframe tbody tr th:only-of-type {\n",
       "        vertical-align: middle;\n",
       "    }\n",
       "\n",
       "    .dataframe tbody tr th {\n",
       "        vertical-align: top;\n",
       "    }\n",
       "\n",
       "    .dataframe thead th {\n",
       "        text-align: right;\n",
       "    }\n",
       "</style>\n",
       "<table border=\"1\" class=\"dataframe\">\n",
       "  <thead>\n",
       "    <tr style=\"text-align: right;\">\n",
       "      <th></th>\n",
       "      <th>No_of_hrs</th>\n",
       "      <th>BMI</th>\n",
       "    </tr>\n",
       "  </thead>\n",
       "  <tbody>\n",
       "    <tr>\n",
       "      <th>No_of_hrs</th>\n",
       "      <td>1.000000</td>\n",
       "      <td>-0.132631</td>\n",
       "    </tr>\n",
       "    <tr>\n",
       "      <th>BMI</th>\n",
       "      <td>-0.132631</td>\n",
       "      <td>1.000000</td>\n",
       "    </tr>\n",
       "  </tbody>\n",
       "</table>\n",
       "</div>"
      ],
      "text/plain": [
       "           No_of_hrs       BMI\n",
       "No_of_hrs   1.000000 -0.132631\n",
       "BMI        -0.132631  1.000000"
      ]
     },
     "execution_count": 19,
     "metadata": {},
     "output_type": "execute_result"
    }
   ],
   "source": [
    "data.corr(method='pearson')"
   ]
  },
  {
   "cell_type": "code",
   "execution_count": 20,
   "id": "41891547",
   "metadata": {},
   "outputs": [
    {
     "data": {
      "text/html": [
       "<div>\n",
       "<style scoped>\n",
       "    .dataframe tbody tr th:only-of-type {\n",
       "        vertical-align: middle;\n",
       "    }\n",
       "\n",
       "    .dataframe tbody tr th {\n",
       "        vertical-align: top;\n",
       "    }\n",
       "\n",
       "    .dataframe thead th {\n",
       "        text-align: right;\n",
       "    }\n",
       "</style>\n",
       "<table border=\"1\" class=\"dataframe\">\n",
       "  <thead>\n",
       "    <tr style=\"text-align: right;\">\n",
       "      <th></th>\n",
       "      <th>No_of_hrs</th>\n",
       "      <th>BMI</th>\n",
       "    </tr>\n",
       "  </thead>\n",
       "  <tbody>\n",
       "    <tr>\n",
       "      <th>No_of_hrs</th>\n",
       "      <td>1.000000</td>\n",
       "      <td>-0.141134</td>\n",
       "    </tr>\n",
       "    <tr>\n",
       "      <th>BMI</th>\n",
       "      <td>-0.141134</td>\n",
       "      <td>1.000000</td>\n",
       "    </tr>\n",
       "  </tbody>\n",
       "</table>\n",
       "</div>"
      ],
      "text/plain": [
       "           No_of_hrs       BMI\n",
       "No_of_hrs   1.000000 -0.141134\n",
       "BMI        -0.141134  1.000000"
      ]
     },
     "execution_count": 20,
     "metadata": {},
     "output_type": "execute_result"
    }
   ],
   "source": [
    "data.corr(method='spearman')"
   ]
  },
  {
   "cell_type": "markdown",
   "id": "d15cdf71",
   "metadata": {},
   "source": [
    "**[Q4]A researcher is interested in examining the relationship between the number of hours individuals spend watching television per day and their level of physical activity. The researcher collected data on both variables from a sample of 50 participants. Calculate the Pearson correlation coefficient between these two variables.**"
   ]
  },
  {
   "cell_type": "code",
   "execution_count": 21,
   "id": "7d3097ef",
   "metadata": {},
   "outputs": [],
   "source": [
    "def add_participants(n):\n",
    "    no_of_hrs = []\n",
    "    physical_activity = []\n",
    "    for i in range(n):\n",
    "        hrs = random.randrange(1,13)\n",
    "        no_of_hrs.append(hrs)\n",
    "        activity = random.randrange(5)\n",
    "        physical_activity.append(activity)\n",
    "    return no_of_hrs,physical_activity"
   ]
  },
  {
   "cell_type": "code",
   "execution_count": 22,
   "id": "191c025b",
   "metadata": {},
   "outputs": [],
   "source": [
    "hrs,activity = add_participants(50)"
   ]
  },
  {
   "cell_type": "code",
   "execution_count": 23,
   "id": "ebcbbbb5",
   "metadata": {},
   "outputs": [],
   "source": [
    "data = {\n",
    "    'hrs':hrs,\n",
    "    'physical activity': activity\n",
    "}"
   ]
  },
  {
   "cell_type": "code",
   "execution_count": 24,
   "id": "6df8d9be",
   "metadata": {},
   "outputs": [],
   "source": [
    "data = pd.DataFrame(data)"
   ]
  },
  {
   "cell_type": "code",
   "execution_count": 25,
   "id": "8462daf1",
   "metadata": {},
   "outputs": [
    {
     "data": {
      "text/html": [
       "<div>\n",
       "<style scoped>\n",
       "    .dataframe tbody tr th:only-of-type {\n",
       "        vertical-align: middle;\n",
       "    }\n",
       "\n",
       "    .dataframe tbody tr th {\n",
       "        vertical-align: top;\n",
       "    }\n",
       "\n",
       "    .dataframe thead th {\n",
       "        text-align: right;\n",
       "    }\n",
       "</style>\n",
       "<table border=\"1\" class=\"dataframe\">\n",
       "  <thead>\n",
       "    <tr style=\"text-align: right;\">\n",
       "      <th></th>\n",
       "      <th>hrs</th>\n",
       "      <th>physical activity</th>\n",
       "    </tr>\n",
       "  </thead>\n",
       "  <tbody>\n",
       "    <tr>\n",
       "      <th>0</th>\n",
       "      <td>9</td>\n",
       "      <td>1</td>\n",
       "    </tr>\n",
       "    <tr>\n",
       "      <th>1</th>\n",
       "      <td>10</td>\n",
       "      <td>0</td>\n",
       "    </tr>\n",
       "    <tr>\n",
       "      <th>2</th>\n",
       "      <td>12</td>\n",
       "      <td>4</td>\n",
       "    </tr>\n",
       "    <tr>\n",
       "      <th>3</th>\n",
       "      <td>8</td>\n",
       "      <td>0</td>\n",
       "    </tr>\n",
       "    <tr>\n",
       "      <th>4</th>\n",
       "      <td>12</td>\n",
       "      <td>4</td>\n",
       "    </tr>\n",
       "  </tbody>\n",
       "</table>\n",
       "</div>"
      ],
      "text/plain": [
       "   hrs  physical activity\n",
       "0    9                  1\n",
       "1   10                  0\n",
       "2   12                  4\n",
       "3    8                  0\n",
       "4   12                  4"
      ]
     },
     "execution_count": 25,
     "metadata": {},
     "output_type": "execute_result"
    }
   ],
   "source": [
    "data.head()"
   ]
  },
  {
   "cell_type": "code",
   "execution_count": 26,
   "id": "771c726b",
   "metadata": {},
   "outputs": [
    {
     "data": {
      "text/html": [
       "<div>\n",
       "<style scoped>\n",
       "    .dataframe tbody tr th:only-of-type {\n",
       "        vertical-align: middle;\n",
       "    }\n",
       "\n",
       "    .dataframe tbody tr th {\n",
       "        vertical-align: top;\n",
       "    }\n",
       "\n",
       "    .dataframe thead th {\n",
       "        text-align: right;\n",
       "    }\n",
       "</style>\n",
       "<table border=\"1\" class=\"dataframe\">\n",
       "  <thead>\n",
       "    <tr style=\"text-align: right;\">\n",
       "      <th></th>\n",
       "      <th>hrs</th>\n",
       "      <th>physical activity</th>\n",
       "    </tr>\n",
       "  </thead>\n",
       "  <tbody>\n",
       "    <tr>\n",
       "      <th>hrs</th>\n",
       "      <td>1.000000</td>\n",
       "      <td>-0.007823</td>\n",
       "    </tr>\n",
       "    <tr>\n",
       "      <th>physical activity</th>\n",
       "      <td>-0.007823</td>\n",
       "      <td>1.000000</td>\n",
       "    </tr>\n",
       "  </tbody>\n",
       "</table>\n",
       "</div>"
      ],
      "text/plain": [
       "                        hrs  physical activity\n",
       "hrs                1.000000          -0.007823\n",
       "physical activity -0.007823           1.000000"
      ]
     },
     "execution_count": 26,
     "metadata": {},
     "output_type": "execute_result"
    }
   ],
   "source": [
    "data.corr(method='pearson')"
   ]
  },
  {
   "cell_type": "code",
   "execution_count": 27,
   "id": "a25c1558",
   "metadata": {},
   "outputs": [
    {
     "data": {
      "text/html": [
       "<div>\n",
       "<style scoped>\n",
       "    .dataframe tbody tr th:only-of-type {\n",
       "        vertical-align: middle;\n",
       "    }\n",
       "\n",
       "    .dataframe tbody tr th {\n",
       "        vertical-align: top;\n",
       "    }\n",
       "\n",
       "    .dataframe thead th {\n",
       "        text-align: right;\n",
       "    }\n",
       "</style>\n",
       "<table border=\"1\" class=\"dataframe\">\n",
       "  <thead>\n",
       "    <tr style=\"text-align: right;\">\n",
       "      <th></th>\n",
       "      <th>hrs</th>\n",
       "      <th>physical activity</th>\n",
       "    </tr>\n",
       "  </thead>\n",
       "  <tbody>\n",
       "    <tr>\n",
       "      <th>hrs</th>\n",
       "      <td>1.000000</td>\n",
       "      <td>0.001185</td>\n",
       "    </tr>\n",
       "    <tr>\n",
       "      <th>physical activity</th>\n",
       "      <td>0.001185</td>\n",
       "      <td>1.000000</td>\n",
       "    </tr>\n",
       "  </tbody>\n",
       "</table>\n",
       "</div>"
      ],
      "text/plain": [
       "                        hrs  physical activity\n",
       "hrs                1.000000           0.001185\n",
       "physical activity  0.001185           1.000000"
      ]
     },
     "execution_count": 27,
     "metadata": {},
     "output_type": "execute_result"
    }
   ],
   "source": [
    "data.corr(method='spearman')"
   ]
  },
  {
   "cell_type": "markdown",
   "id": "9bd899c9",
   "metadata": {},
   "source": [
    "**[Q5]A survey was conducted to examine the relationship between age and preference for a particular brand of soft drink. The survey results are shown below**"
   ]
  },
  {
   "cell_type": "code",
   "execution_count": 28,
   "id": "779a98cc",
   "metadata": {},
   "outputs": [],
   "source": [
    "data = {\n",
    "    'age': [25,42,37,19,31,28],\n",
    "    'soft drink preferred' : ['Coke','pepsi','Mountain dew','Coke','pepsi','Coke']\n",
    "}"
   ]
  },
  {
   "cell_type": "code",
   "execution_count": 29,
   "id": "cef82ec6",
   "metadata": {},
   "outputs": [],
   "source": [
    "data = pd.DataFrame(data)"
   ]
  },
  {
   "cell_type": "code",
   "execution_count": 31,
   "id": "35bd81e9",
   "metadata": {},
   "outputs": [
    {
     "data": {
      "text/html": [
       "<div>\n",
       "<style scoped>\n",
       "    .dataframe tbody tr th:only-of-type {\n",
       "        vertical-align: middle;\n",
       "    }\n",
       "\n",
       "    .dataframe tbody tr th {\n",
       "        vertical-align: top;\n",
       "    }\n",
       "\n",
       "    .dataframe thead th {\n",
       "        text-align: right;\n",
       "    }\n",
       "</style>\n",
       "<table border=\"1\" class=\"dataframe\">\n",
       "  <thead>\n",
       "    <tr style=\"text-align: right;\">\n",
       "      <th></th>\n",
       "      <th>age</th>\n",
       "      <th>soft drink preferred</th>\n",
       "    </tr>\n",
       "  </thead>\n",
       "  <tbody>\n",
       "    <tr>\n",
       "      <th>0</th>\n",
       "      <td>25</td>\n",
       "      <td>Coke</td>\n",
       "    </tr>\n",
       "    <tr>\n",
       "      <th>1</th>\n",
       "      <td>42</td>\n",
       "      <td>pepsi</td>\n",
       "    </tr>\n",
       "    <tr>\n",
       "      <th>2</th>\n",
       "      <td>37</td>\n",
       "      <td>Mountain dew</td>\n",
       "    </tr>\n",
       "    <tr>\n",
       "      <th>3</th>\n",
       "      <td>19</td>\n",
       "      <td>Coke</td>\n",
       "    </tr>\n",
       "    <tr>\n",
       "      <th>4</th>\n",
       "      <td>31</td>\n",
       "      <td>pepsi</td>\n",
       "    </tr>\n",
       "  </tbody>\n",
       "</table>\n",
       "</div>"
      ],
      "text/plain": [
       "   age soft drink preferred\n",
       "0   25                 Coke\n",
       "1   42                pepsi\n",
       "2   37         Mountain dew\n",
       "3   19                 Coke\n",
       "4   31                pepsi"
      ]
     },
     "execution_count": 31,
     "metadata": {},
     "output_type": "execute_result"
    }
   ],
   "source": [
    "data.head()"
   ]
  },
  {
   "cell_type": "code",
   "execution_count": 32,
   "id": "336f90ef",
   "metadata": {},
   "outputs": [
    {
     "name": "stdout",
     "output_type": "stream",
     "text": [
      "Spearman's rank correlation coefficient: 0.8332380897952965\n"
     ]
    }
   ],
   "source": [
    "data['age_rank'] = data['age'].rank()\n",
    "data['soft_drink_rank'] = data['soft drink preferred'].rank()\n",
    "\n",
    "spearman_corr = data['age_rank'].corr(data['soft_drink_rank'], method='spearman')\n",
    "print(\"Spearman's rank correlation coefficient:\", spearman_corr)"
   ]
  },
  {
   "cell_type": "code",
   "execution_count": 33,
   "id": "6d9c249a",
   "metadata": {},
   "outputs": [
    {
     "data": {
      "text/html": [
       "<div>\n",
       "<style scoped>\n",
       "    .dataframe tbody tr th:only-of-type {\n",
       "        vertical-align: middle;\n",
       "    }\n",
       "\n",
       "    .dataframe tbody tr th {\n",
       "        vertical-align: top;\n",
       "    }\n",
       "\n",
       "    .dataframe thead th {\n",
       "        text-align: right;\n",
       "    }\n",
       "</style>\n",
       "<table border=\"1\" class=\"dataframe\">\n",
       "  <thead>\n",
       "    <tr style=\"text-align: right;\">\n",
       "      <th></th>\n",
       "      <th>age</th>\n",
       "      <th>soft drink preferred</th>\n",
       "      <th>age_rank</th>\n",
       "      <th>soft_drink_rank</th>\n",
       "    </tr>\n",
       "  </thead>\n",
       "  <tbody>\n",
       "    <tr>\n",
       "      <th>0</th>\n",
       "      <td>25</td>\n",
       "      <td>Coke</td>\n",
       "      <td>2.0</td>\n",
       "      <td>2.0</td>\n",
       "    </tr>\n",
       "    <tr>\n",
       "      <th>1</th>\n",
       "      <td>42</td>\n",
       "      <td>pepsi</td>\n",
       "      <td>6.0</td>\n",
       "      <td>5.5</td>\n",
       "    </tr>\n",
       "    <tr>\n",
       "      <th>2</th>\n",
       "      <td>37</td>\n",
       "      <td>Mountain dew</td>\n",
       "      <td>5.0</td>\n",
       "      <td>4.0</td>\n",
       "    </tr>\n",
       "    <tr>\n",
       "      <th>3</th>\n",
       "      <td>19</td>\n",
       "      <td>Coke</td>\n",
       "      <td>1.0</td>\n",
       "      <td>2.0</td>\n",
       "    </tr>\n",
       "    <tr>\n",
       "      <th>4</th>\n",
       "      <td>31</td>\n",
       "      <td>pepsi</td>\n",
       "      <td>4.0</td>\n",
       "      <td>5.5</td>\n",
       "    </tr>\n",
       "  </tbody>\n",
       "</table>\n",
       "</div>"
      ],
      "text/plain": [
       "   age soft drink preferred  age_rank  soft_drink_rank\n",
       "0   25                 Coke       2.0              2.0\n",
       "1   42                pepsi       6.0              5.5\n",
       "2   37         Mountain dew       5.0              4.0\n",
       "3   19                 Coke       1.0              2.0\n",
       "4   31                pepsi       4.0              5.5"
      ]
     },
     "execution_count": 33,
     "metadata": {},
     "output_type": "execute_result"
    }
   ],
   "source": [
    "data.head()"
   ]
  },
  {
   "cell_type": "markdown",
   "id": "8b41a26f",
   "metadata": {},
   "source": [
    "**[Q6]A company is interested in examining the relationship between the number of sales calls made per day and the number of sales made per week. The company collected data on both variables from a sample of 30 sales representatives. Calculate the Pearson correlation coefficient between these two variables.**"
   ]
  },
  {
   "cell_type": "code",
   "execution_count": 35,
   "id": "01b0a892",
   "metadata": {},
   "outputs": [],
   "source": [
    "def add_participants(n):\n",
    "    sales_call = []\n",
    "    sales_made = []\n",
    "    for i in range(n):\n",
    "        call = random.randrange(1,20)\n",
    "        sales_call.append(call)\n",
    "        sales = random.randrange(1,30)\n",
    "        sales_made.append(sales)\n",
    "    return sales_call,sales_made"
   ]
  },
  {
   "cell_type": "code",
   "execution_count": 36,
   "id": "516c2a43",
   "metadata": {},
   "outputs": [],
   "source": [
    "call,sales = add_participants(30)"
   ]
  },
  {
   "cell_type": "code",
   "execution_count": 37,
   "id": "9ec9b4f2",
   "metadata": {},
   "outputs": [],
   "source": [
    "data = {\n",
    "    'sales call' : call,\n",
    "    'sales made(per week)' : sales\n",
    "}\n"
   ]
  },
  {
   "cell_type": "code",
   "execution_count": 38,
   "id": "670bfa8b",
   "metadata": {},
   "outputs": [
    {
     "data": {
      "text/html": [
       "<div>\n",
       "<style scoped>\n",
       "    .dataframe tbody tr th:only-of-type {\n",
       "        vertical-align: middle;\n",
       "    }\n",
       "\n",
       "    .dataframe tbody tr th {\n",
       "        vertical-align: top;\n",
       "    }\n",
       "\n",
       "    .dataframe thead th {\n",
       "        text-align: right;\n",
       "    }\n",
       "</style>\n",
       "<table border=\"1\" class=\"dataframe\">\n",
       "  <thead>\n",
       "    <tr style=\"text-align: right;\">\n",
       "      <th></th>\n",
       "      <th>sales call</th>\n",
       "      <th>sales made(per week)</th>\n",
       "    </tr>\n",
       "  </thead>\n",
       "  <tbody>\n",
       "    <tr>\n",
       "      <th>0</th>\n",
       "      <td>10</td>\n",
       "      <td>27</td>\n",
       "    </tr>\n",
       "    <tr>\n",
       "      <th>1</th>\n",
       "      <td>15</td>\n",
       "      <td>12</td>\n",
       "    </tr>\n",
       "    <tr>\n",
       "      <th>2</th>\n",
       "      <td>17</td>\n",
       "      <td>24</td>\n",
       "    </tr>\n",
       "    <tr>\n",
       "      <th>3</th>\n",
       "      <td>18</td>\n",
       "      <td>5</td>\n",
       "    </tr>\n",
       "    <tr>\n",
       "      <th>4</th>\n",
       "      <td>15</td>\n",
       "      <td>27</td>\n",
       "    </tr>\n",
       "  </tbody>\n",
       "</table>\n",
       "</div>"
      ],
      "text/plain": [
       "   sales call  sales made(per week)\n",
       "0          10                    27\n",
       "1          15                    12\n",
       "2          17                    24\n",
       "3          18                     5\n",
       "4          15                    27"
      ]
     },
     "execution_count": 38,
     "metadata": {},
     "output_type": "execute_result"
    }
   ],
   "source": [
    "data = pd.DataFrame(data)\n",
    "data.head()"
   ]
  },
  {
   "cell_type": "code",
   "execution_count": 39,
   "id": "d5757650",
   "metadata": {},
   "outputs": [
    {
     "data": {
      "text/html": [
       "<div>\n",
       "<style scoped>\n",
       "    .dataframe tbody tr th:only-of-type {\n",
       "        vertical-align: middle;\n",
       "    }\n",
       "\n",
       "    .dataframe tbody tr th {\n",
       "        vertical-align: top;\n",
       "    }\n",
       "\n",
       "    .dataframe thead th {\n",
       "        text-align: right;\n",
       "    }\n",
       "</style>\n",
       "<table border=\"1\" class=\"dataframe\">\n",
       "  <thead>\n",
       "    <tr style=\"text-align: right;\">\n",
       "      <th></th>\n",
       "      <th>sales call</th>\n",
       "      <th>sales made(per week)</th>\n",
       "    </tr>\n",
       "  </thead>\n",
       "  <tbody>\n",
       "    <tr>\n",
       "      <th>sales call</th>\n",
       "      <td>1.000000</td>\n",
       "      <td>0.210549</td>\n",
       "    </tr>\n",
       "    <tr>\n",
       "      <th>sales made(per week)</th>\n",
       "      <td>0.210549</td>\n",
       "      <td>1.000000</td>\n",
       "    </tr>\n",
       "  </tbody>\n",
       "</table>\n",
       "</div>"
      ],
      "text/plain": [
       "                      sales call  sales made(per week)\n",
       "sales call              1.000000              0.210549\n",
       "sales made(per week)    0.210549              1.000000"
      ]
     },
     "execution_count": 39,
     "metadata": {},
     "output_type": "execute_result"
    }
   ],
   "source": [
    "data.corr(method='pearson')"
   ]
  },
  {
   "cell_type": "code",
   "execution_count": null,
   "id": "379d7981",
   "metadata": {},
   "outputs": [],
   "source": []
  }
 ],
 "metadata": {
  "kernelspec": {
   "display_name": "Python 3 (ipykernel)",
   "language": "python",
   "name": "python3"
  },
  "language_info": {
   "codemirror_mode": {
    "name": "ipython",
    "version": 3
   },
   "file_extension": ".py",
   "mimetype": "text/x-python",
   "name": "python",
   "nbconvert_exporter": "python",
   "pygments_lexer": "ipython3",
   "version": "3.11.5"
  }
 },
 "nbformat": 4,
 "nbformat_minor": 5
}
