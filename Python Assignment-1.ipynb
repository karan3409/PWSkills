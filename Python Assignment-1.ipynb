{
 "cells": [
  {
   "cell_type": "markdown",
   "id": "2dc4e7e7",
   "metadata": {},
   "source": [
    "**[Q1] Which keyword is used to create a function? Create a function to return a list of odd numbers in the\n",
    "range of 1 to 25.**"
   ]
  },
  {
   "cell_type": "raw",
   "id": "15f00036",
   "metadata": {},
   "source": [
    "In Python, the keyword def is used to create a function.\n",
    "\n",
    "def odd_numbers():\n",
    "    return [num for num in range(1, 26) if num % 2 != 0]\n",
    "\n",
    "# Call the function and print the result\n",
    "odd_list = odd_numbers()\n",
    "print(odd_list)\n"
   ]
  },
  {
   "cell_type": "markdown",
   "id": "6fb0fefc",
   "metadata": {},
   "source": [
    "**[Q2] Why args and kwargs is used in some functions? Create a function each for args and kwargs\n",
    "to demonstrate their use.**"
   ]
  },
  {
   "cell_type": "markdown",
   "id": "b6d7d8cf",
   "metadata": {},
   "source": [
    "*args\n",
    "\n",
    "they are used to take n number of parameter in a function. they are in tuple format.\n",
    "\n",
    "**kwargs\n",
    "\n",
    "they are used to take n number of key and value pairs. they are in dict format"
   ]
  },
  {
   "cell_type": "code",
   "execution_count": 1,
   "id": "b0efd20f",
   "metadata": {},
   "outputs": [],
   "source": [
    "# *args\n",
    "def add_num(*args):\n",
    "    return sum(args)"
   ]
  },
  {
   "cell_type": "code",
   "execution_count": 2,
   "id": "82101cd4",
   "metadata": {},
   "outputs": [
    {
     "name": "stdout",
     "output_type": "stream",
     "text": [
      "10\n"
     ]
    }
   ],
   "source": [
    "print(add_num(1,2,3,4))"
   ]
  },
  {
   "cell_type": "code",
   "execution_count": 4,
   "id": "4501ceea",
   "metadata": {},
   "outputs": [],
   "source": [
    "# **kwargs\n",
    "def show_values(**kwargs):\n",
    "    return kwargs.values()"
   ]
  },
  {
   "cell_type": "code",
   "execution_count": 5,
   "id": "d48a765a",
   "metadata": {},
   "outputs": [
    {
     "name": "stdout",
     "output_type": "stream",
     "text": [
      "dict_values(['apple', 'pumpkin'])\n"
     ]
    }
   ],
   "source": [
    "print(show_values(fruit='apple', vegetable = 'pumpkin'))"
   ]
  },
  {
   "cell_type": "markdown",
   "id": "c67761b0",
   "metadata": {},
   "source": [
    "**[Q3] What is an iterator in python? Name the method used to initialise the iterator object and the method\n",
    "used for iteration. Use these methods to print the first five elements of the given list [2, 4, 6, 8, 10, 12, 14,\n",
    "16, 18, 20].**"
   ]
  },
  {
   "cell_type": "markdown",
   "id": "8e56c554",
   "metadata": {},
   "source": [
    "iterator is an object that allows you to iterate over collection data such list, tuples, sets and strings.\n",
    "\n",
    "'iter' method is used to initialise over iterables."
   ]
  },
  {
   "cell_type": "code",
   "execution_count": 6,
   "id": "15c80f84",
   "metadata": {},
   "outputs": [],
   "source": [
    "def first_five():\n",
    "    lst = [2, 4, 6, 8, 10, 12, 14,  16, 18, 20]\n",
    "    for i in range(5):\n",
    "        yield lst[i]"
   ]
  },
  {
   "cell_type": "code",
   "execution_count": 7,
   "id": "8bfa8071",
   "metadata": {},
   "outputs": [
    {
     "data": {
      "text/plain": [
       "<generator object first_five at 0x000001FEB15F6C20>"
      ]
     },
     "execution_count": 7,
     "metadata": {},
     "output_type": "execute_result"
    }
   ],
   "source": [
    "first_five()"
   ]
  },
  {
   "cell_type": "code",
   "execution_count": 8,
   "id": "64fbeef0",
   "metadata": {},
   "outputs": [
    {
     "name": "stdout",
     "output_type": "stream",
     "text": [
      "[2, 4, 6, 8, 10]\n"
     ]
    }
   ],
   "source": [
    "print(list(first_five()))"
   ]
  },
  {
   "cell_type": "markdown",
   "id": "28f5a896",
   "metadata": {},
   "source": [
    "**[Q4]What is a generator function in python? Why yield keyword is used? Give an example of a generator\n",
    "function.**"
   ]
  },
  {
   "cell_type": "markdown",
   "id": "ad1fa9ba",
   "metadata": {},
   "source": [
    "a generator is a function that returns an iterator that produces a sequence of values when iterated over. Generators are useful when we want to produce a large sequence of values, but we don't want to store all of them in memory at once.\n",
    "\n",
    "The yield keyword in Python controls the flow of a generator function. This is similar to a return statement used for returning values in Python."
   ]
  },
  {
   "cell_type": "code",
   "execution_count": 9,
   "id": "5805ae66",
   "metadata": {},
   "outputs": [
    {
     "data": {
      "text/plain": [
       "range(0, 5)"
      ]
     },
     "execution_count": 9,
     "metadata": {},
     "output_type": "execute_result"
    }
   ],
   "source": [
    "#example\n",
    "range(0,5)"
   ]
  },
  {
   "cell_type": "code",
   "execution_count": 10,
   "id": "70791f03",
   "metadata": {},
   "outputs": [
    {
     "name": "stdout",
     "output_type": "stream",
     "text": [
      "0 1 2 3 4 "
     ]
    }
   ],
   "source": [
    "for i in range(5):\n",
    "    print(i,end=' ')"
   ]
  },
  {
   "cell_type": "markdown",
   "id": "90f8ff7d",
   "metadata": {},
   "source": [
    "**Q5. Create a generator function for prime numbers less than 1000. Use the next() method to print the\n",
    "first 20 prime numbers.**"
   ]
  },
  {
   "cell_type": "code",
   "execution_count": 11,
   "id": "a94a63a6",
   "metadata": {},
   "outputs": [
    {
     "name": "stdout",
     "output_type": "stream",
     "text": [
      "2\n",
      "3\n",
      "5\n",
      "7\n",
      "11\n",
      "13\n",
      "17\n",
      "19\n",
      "23\n",
      "29\n",
      "31\n",
      "37\n",
      "41\n",
      "43\n",
      "47\n",
      "53\n",
      "59\n",
      "61\n",
      "67\n",
      "71\n"
     ]
    }
   ],
   "source": [
    "def generate_primes():\n",
    "    # Generator function to generate prime numbers\n",
    "    yield 2  # 2 is the first prime number\n",
    "    primes = [2]  # List to store prime numbers found so far\n",
    "\n",
    "    # Start checking numbers from 3\n",
    "    num = 3\n",
    "    while num < 1000:\n",
    "        is_prime = True\n",
    "        # Check if the number is divisible by any prime number found so far\n",
    "        for prime in primes:\n",
    "            if num % prime == 0:\n",
    "                is_prime = False\n",
    "                break\n",
    "        # If the number is not divisible by any prime number, it is prime\n",
    "        if is_prime:\n",
    "            yield num\n",
    "            primes.append(num)\n",
    "        # Move to the next number\n",
    "        num += 2\n",
    "\n",
    "# Create the generator object\n",
    "prime_generator = generate_primes()\n",
    "\n",
    "# Print the first 20 prime numbers using the next() method\n",
    "for _ in range(20):\n",
    "    prime = next(prime_generator)\n",
    "    print(prime)"
   ]
  },
  {
   "cell_type": "markdown",
   "id": "bab10269",
   "metadata": {},
   "source": [
    "**[Q6]Write a python program to print the first 10 Fibonacci numbers using a while loop.**"
   ]
  },
  {
   "cell_type": "code",
   "execution_count": 12,
   "id": "700b61e9",
   "metadata": {},
   "outputs": [
    {
     "name": "stdout",
     "output_type": "stream",
     "text": [
      "0\n",
      "1\n",
      "1\n",
      "2\n",
      "3\n",
      "5\n",
      "8\n",
      "13\n",
      "21\n",
      "34\n"
     ]
    }
   ],
   "source": [
    "# Initialize the first two numbers in the sequence\n",
    "a, b = 0, 1\n",
    "count = 0\n",
    "\n",
    "# Print the first 10 Fibonacci numbers\n",
    "while count < 10:\n",
    "    print(a)\n",
    "    # Calculate the next Fibonacci number\n",
    "    a, b = b, a + b\n",
    "    count += 1\n",
    "    "
   ]
  },
  {
   "cell_type": "markdown",
   "id": "46f853d7",
   "metadata": {},
   "source": [
    "**[Q7]Write a List Comprehension to iterate through the given string: ‘pwskills’.\n",
    "Expected output: ['p', 'w', 's', 'k', 'i', 'l', 'l', 's']**"
   ]
  },
  {
   "cell_type": "code",
   "execution_count": 14,
   "id": "5b3d76de",
   "metadata": {},
   "outputs": [],
   "source": [
    "name = 'pwskills'\n",
    "lst = [letter for letter in name]"
   ]
  },
  {
   "cell_type": "code",
   "execution_count": 15,
   "id": "77ab862d",
   "metadata": {},
   "outputs": [
    {
     "data": {
      "text/plain": [
       "['p', 'w', 's', 'k', 'i', 'l', 'l', 's']"
      ]
     },
     "execution_count": 15,
     "metadata": {},
     "output_type": "execute_result"
    }
   ],
   "source": [
    "lst"
   ]
  },
  {
   "cell_type": "markdown",
   "id": "d3670401",
   "metadata": {},
   "source": [
    "**[Q8]Write a python program to check whether\n",
    "a given number is Palindrome or not using a while loop.**"
   ]
  },
  {
   "cell_type": "code",
   "execution_count": 16,
   "id": "8634131e",
   "metadata": {},
   "outputs": [
    {
     "name": "stdout",
     "output_type": "stream",
     "text": [
      "Enter a number: 934\n",
      "not a palindrome\n"
     ]
    }
   ],
   "source": [
    "num = int(input('Enter a number: '))\n",
    "num_copy = num\n",
    "reverse = 0\n",
    "while num !=0:\n",
    "    rem = num %10\n",
    "    reverse = reverse * 10 + rem\n",
    "    num = num //10\n",
    "\n",
    "if num_copy == reverse:\n",
    "    print('it is a palindrome')\n",
    "else:\n",
    "    print('not a palindrome')"
   ]
  },
  {
   "cell_type": "markdown",
   "id": "9bb29d11",
   "metadata": {},
   "source": [
    "**[Q9]Write a code to print odd numbers from 1 to 100 using list comprehension.**"
   ]
  },
  {
   "cell_type": "code",
   "execution_count": 19,
   "id": "7887b512",
   "metadata": {},
   "outputs": [],
   "source": [
    "ptr = [i for i in range(100) if i%2 !=0]"
   ]
  },
  {
   "cell_type": "code",
   "execution_count": 20,
   "id": "c7aefdf1",
   "metadata": {},
   "outputs": [
    {
     "data": {
      "text/plain": [
       "[1,\n",
       " 3,\n",
       " 5,\n",
       " 7,\n",
       " 9,\n",
       " 11,\n",
       " 13,\n",
       " 15,\n",
       " 17,\n",
       " 19,\n",
       " 21,\n",
       " 23,\n",
       " 25,\n",
       " 27,\n",
       " 29,\n",
       " 31,\n",
       " 33,\n",
       " 35,\n",
       " 37,\n",
       " 39,\n",
       " 41,\n",
       " 43,\n",
       " 45,\n",
       " 47,\n",
       " 49,\n",
       " 51,\n",
       " 53,\n",
       " 55,\n",
       " 57,\n",
       " 59,\n",
       " 61,\n",
       " 63,\n",
       " 65,\n",
       " 67,\n",
       " 69,\n",
       " 71,\n",
       " 73,\n",
       " 75,\n",
       " 77,\n",
       " 79,\n",
       " 81,\n",
       " 83,\n",
       " 85,\n",
       " 87,\n",
       " 89,\n",
       " 91,\n",
       " 93,\n",
       " 95,\n",
       " 97,\n",
       " 99]"
      ]
     },
     "execution_count": 20,
     "metadata": {},
     "output_type": "execute_result"
    }
   ],
   "source": [
    "ptr"
   ]
  },
  {
   "cell_type": "code",
   "execution_count": null,
   "id": "422c8b4f",
   "metadata": {},
   "outputs": [],
   "source": []
  }
 ],
 "metadata": {
  "kernelspec": {
   "display_name": "Python 3 (ipykernel)",
   "language": "python",
   "name": "python3"
  },
  "language_info": {
   "codemirror_mode": {
    "name": "ipython",
    "version": 3
   },
   "file_extension": ".py",
   "mimetype": "text/x-python",
   "name": "python",
   "nbconvert_exporter": "python",
   "pygments_lexer": "ipython3",
   "version": "3.11.5"
  }
 },
 "nbformat": 4,
 "nbformat_minor": 5
}
