{
 "cells": [
  {
   "cell_type": "markdown",
   "id": "f8741a81",
   "metadata": {},
   "source": [
    "**[Q1]What is the difference between Ordinal Encoding and Label Encoding? Provide an example of when you might choose one over the other.**"
   ]
  },
  {
   "cell_type": "markdown",
   "id": "be5c0e43",
   "metadata": {},
   "source": [
    "Ordinal encoding and label encoding are both techniques used to convert categorical data into numerical data for machine learning models. However, they are used in different situations depending on the nature of the categorical data.\n",
    "\n",
    "Ordinal encoding is used when the categorical data has a natural order or ranking between the categories. For example, educational levels such as \"High School,\" \"Bachelor's Degree,\" and \"Master's Degree\" have a natural order based on the level of education. In this case, ordinal encoding assigns a unique numerical value to each category based on its order.\n",
    "\n",
    "Label encoding, on the other hand, is used when the categorical data does not have a natural order or ranking between the categories. For example, gender categories such as \"Male\" and \"Female\" do not have a natural order. In this case, label encoding assigns a unique numerical value to each category without any specific order.\n",
    "\n",
    "It is important to note that label encoding should not be used for features, but only for target variables. This is because label encoding can create a false sense of order or relationship between the categories, which can lead to incorrect predictions by the machine learning model.\n",
    "\n",
    "In summary, the choice between ordinal encoding and label encoding depends on the nature of the categorical data. If the data has a natural order or ranking, use ordinal encoding. If the data does not have a natural order, use label encoding for target variables only."
   ]
  },
  {
   "cell_type": "markdown",
   "id": "1a42bd21",
   "metadata": {},
   "source": [
    "**[Q2]Explain how Target Guided Ordinal Encoding works and provide an example of when you might use it in a machine learning project.**"
   ]
  },
  {
   "cell_type": "markdown",
   "id": "26fc98de",
   "metadata": {},
   "source": [
    "Target Guided Ordinal Encoding is a technique used in machine learning to encode categorical variables based on the target variable. It involves ordering the categories based on the mean of the target variable and then assigning ranks or numbers accordingly.\n",
    "\n",
    "Here's a simple explanation of how it works:\n",
    "\n",
    "  1)For each category in the categorical variable, calculate the mean of the target variable.\n",
    "  2)Order the categories based on these means.\n",
    "  3)Assign ranks or numbers to the categories based on their order.\n",
    "\n",
    "You might use Target Guided Ordinal Encoding when you have a categorical variable with a large number of categories and you want to capture the relationship between the categories and the target variable. This can be useful in scenarios where the ordinal relationship between the categories and the target variable is important for the model to learn, such as in credit risk assessment or customer churn prediction.\n",
    "\n",
    "Here's a simple example in Python using the Titanic dataset:"
   ]
  },
  {
   "cell_type": "code",
   "execution_count": null,
   "id": "7271e8bc",
   "metadata": {},
   "outputs": [],
   "source": [
    "import pandas as pd\n",
    "from sklearn.model_selection import train_test_split\n",
    "from feature_engine.encoding import OrdinalEncoder\n",
    "\n",
    "# Load the Titanic dataset\n",
    "url = 'https://raw.githubusercontent.com/datasciencedojo/datasets/master/titanic.csv'\n",
    "data = pd.read_csv(url)\n",
    "\n",
    "# Split the data into training and testing sets\n",
    "X_train, X_test, y_train, y_test = train_test_split(data[['Pclass', 'Age', 'Fare', 'Embarked', 'Survived']], data['Survived'], test_size=0.3, random_state=0)\n",
    "\n",
    "# Apply Target Guided Ordinal Encoding to the 'Embarked' variable\n",
    "encoder = OrdinalEncoder(encoding_method='ordered', variables=['Embarked'])\n",
    "X_train_encoded = encoder.fit_transform(X_train, y_train)\n",
    "X_test_encoded = encoder.transform(X_test)"
   ]
  },
  {
   "cell_type": "markdown",
   "id": "f1035794",
   "metadata": {},
   "source": [
    "**[Q3]Define covariance and explain why it is important in statistical analysis. How is covariance calculated?**"
   ]
  },
  {
   "cell_type": "markdown",
   "id": "a1e4c0fe",
   "metadata": {},
   "source": [
    "Covariance is a measure of how much two random variables vary together. It indicates the direction of the linear relationship between the variables.\n",
    "\n",
    "In statistical analysis, covariance is important because it helps in understanding the relationship between two variables. A positive covariance indicates that the two variables tend to increase or decrease together, while a negative covariance indicates that one variable tends to increase when the other decreases.\n",
    "\n",
    "Covariance is calculated using the following formula:\n",
    "\n",
    "*cov(X, Y) = Σ [ (Xi - X_mean) * (Yi - Y_mean) ] / (n - 1)*\n",
    "\n",
    "Where:\n",
    "\n",
    "   - X and Y are the random variables\n",
    "   - Xi and Yi are individual data points\n",
    "   - X_mean and Y_mean are the means of X and Y\n",
    "   - n is the number of data points\n",
    "   \n",
    "It's important to note that covariance is influenced by the scale of the variables, so it's not always easy to interpret. Therefore, normalized measures like correlation coefficient are often used instead of covariance for comparing the strength of the relationship between variables.|"
   ]
  },
  {
   "cell_type": "markdown",
   "id": "04b684c1",
   "metadata": {},
   "source": [
    "**[Q4]For a dataset with the following categorical variables: Color (red, green, blue), Size (small, medium, large), and Material (wood, metal, plastic), perform label encoding using Python's scikit-learn library. Show your code and explain the output.**"
   ]
  },
  {
   "cell_type": "code",
   "execution_count": 3,
   "id": "e673902b",
   "metadata": {},
   "outputs": [
    {
     "name": "stdout",
     "output_type": "stream",
     "text": [
      "    Color         Size Material  Color_encoded  Size_encoded  Material_encoded\n",
      "0    Pink        Small     wood              2             2                 2\n",
      "1    Blue        large    metal              0             3                 0\n",
      "2  Violet       medium  plastic              4             4                 1\n",
      "3  Orange  Extra-small    metal              1             1                 0\n",
      "4     Red  Extra-large     wood              3             0                 2\n"
     ]
    }
   ],
   "source": [
    "import pandas as pd\n",
    "from sklearn.preprocessing import LabelEncoder\n",
    "\n",
    "# Create a DataFrame with the categorical variables\n",
    "data = {\n",
    "    'Color': ['Pink', 'Blue', 'Violet', 'Orange', 'Red'],\n",
    "    'Size': ['Small', 'large', 'medium', 'Extra-small', 'Extra-large'],\n",
    "    'Material': ['wood', 'metal', 'plastic', 'metal', 'wood']\n",
    "}\n",
    "df = pd.DataFrame(data)\n",
    "\n",
    "# Initialize the LabelEncoder\n",
    "label_encoder = LabelEncoder()\n",
    "\n",
    "# Apply label encoding to each categorical variable\n",
    "df['Color_encoded'] = label_encoder.fit_transform(df['Color'])\n",
    "df['Size_encoded'] = label_encoder.fit_transform(df['Size'])\n",
    "df['Material_encoded'] = label_encoder.fit_transform(df['Material'])\n",
    "\n",
    "print(df)"
   ]
  },
  {
   "cell_type": "markdown",
   "id": "f158a2a3",
   "metadata": {},
   "source": [
    "In the output, you can see the original categorical variables \"Color\", \"Size\", and \"Material\", along with their corresponding label encoded columns \"Color_encoded\", \"Size_encoded\", and \"Material_encoded\". The label encoder assigns a unique number to each category within the variables, allowing the categorical data to be represented as numerical values for machine learning algorithms."
   ]
  },
  {
   "cell_type": "markdown",
   "id": "436d0464",
   "metadata": {},
   "source": [
    "**[Q5]Calculate the covariance matrix for the following variables in a dataset: Age, Income, and Education level. Interpret the results.**"
   ]
  },
  {
   "cell_type": "code",
   "execution_count": 4,
   "id": "75e98386",
   "metadata": {},
   "outputs": [
    {
     "name": "stdout",
     "output_type": "stream",
     "text": [
      "                      Age       Income  Education_level\n",
      "Age                  62.5     112500.0             22.5\n",
      "Income           112500.0  250000000.0          50000.0\n",
      "Education_level      22.5      50000.0             10.0\n"
     ]
    }
   ],
   "source": [
    "import pandas as pd\n",
    "\n",
    "# Create a DataFrame with the variables\n",
    "data = {\n",
    "    'Age': [35, 45, 30, 25, 40],\n",
    "    'Income': [50000, 60000, 40000, 30000, 70000],\n",
    "    'Education_level': [16, 18, 14, 12, 20]\n",
    "}\n",
    "df = pd.DataFrame(data)\n",
    "\n",
    "# Calculate the covariance matrix\n",
    "covariance_matrix = df.cov()\n",
    "print(covariance_matrix)"
   ]
  },
  {
   "cell_type": "markdown",
   "id": "b6069c91",
   "metadata": {},
   "source": [
    "Interpreting the results: The covariance matrix will be a 3x3 matrix, where the diagonal elements represent the variances of Age, Income, and Education level, and the off-diagonal elements represent the covariances between the pairs of variables.\n",
    "\n",
    "For example, a positive covariance between Age and Income would indicate that as Age increases, Income tends to increase as well. A negative covariance would indicate the opposite relationship. Similarly, the covariances between Income and Education level, and Age and Education level, would indicate the relationships between those pairs of variables.\n",
    "\n",
    "It's important to note that the magnitude of the covariance is influenced by the scale of the variables, so it's not always easy to interpret. Therefore, normalized measures like correlation coefficient are often used instead of covariance for comparing the strength of the relationship between variables."
   ]
  },
  {
   "cell_type": "markdown",
   "id": "04d2c192",
   "metadata": {},
   "source": [
    "**[Q6]You are working on a machine learning project with a dataset containing several categorical variables, including \"Gender\" (Male/Female), \"Education Level\" (High School/Bachelor's/Master's/PhD), and \"Employment Status\" (Unemployed/Part-Time/Full-Time). Which encoding method would you use for each variable, and why?**"
   ]
  },
  {
   "cell_type": "markdown",
   "id": "a381ec0b",
   "metadata": {},
   "source": [
    "For each categorical variable, we can use different encoding methods depending on the nature of the variable and the machine learning model.\n",
    "\n",
    "1)Gender: One-hot encoding (OHE) or ordinal encoding:\n",
    "\n",
    "  - One-hot encoding: This method creates a binary column for each category. It can be used with any machine learning model.\n",
    "  - Ordinal encoding: This method assigns a numeric value to each category based on the order of the categories. It can be used    with models that can handle ordinal data.\n",
    "  - Reason: One-hot encoding is recommended for Gender as it can capture the differences between the categories. Ordinal            encoding can also be used if the model can handle ordinal data.\n",
    "\n",
    "2)Education Level: Ordinal encoding or target encoding:\n",
    "\n",
    "  - Ordinal encoding: This method assigns a numeric value to each category based on the order of the categories. It can be used     with models that can handle ordinal data.\n",
    "  - Target encoding: This method replaces each category with the mean target value of the samples in that category. It can be       used with regression models.\n",
    "  - Reason: Ordinal encoding is recommended for Education Level as it can capture the differences between the categories. Target    encoding can also be used if the model is a regression model.\n",
    "  \n",
    "3)Employment Status: One-hot encoding (OHE) or ordinal encoding:\n",
    "\n",
    "  - One-hot encoding: This method creates a binary column for each category. It can be used with any machine learning model.\n",
    "  - Ordinal encoding: This method assigns a numeric value to each category based on the order of the categories. It can be used     with models that can handle ordinal data.\n",
    "  - Reason: One-hot encoding is recommended for Employment Status as it can capture the differences between the categories.         Ordinal encoding can also be used if the model can handle ordinal data.  "
   ]
  },
  {
   "cell_type": "code",
   "execution_count": null,
   "id": "9281efa4",
   "metadata": {},
   "outputs": [],
   "source": [
    "import pandas as pd\n",
    "from sklearn.preprocessing import OneHotEncoder, OrdinalEncoder\n",
    "\n",
    "# Assuming 'data' is your DataFrame\n",
    "\n",
    "# One-hot encoding\n",
    "encoder = OneHotEncoder(sparse=False)\n",
    "encoded_data = pd.DataFrame(encoder.fit_transform(data[['Gender', 'Education Level', 'Employment Status']]))\n",
    "encoded_data.columns = encoder.get_feature_names(['Gender', 'Education Level', 'Employment Status'])\n",
    "\n",
    "# Ordinal encoding\n",
    "encoder = OrdinalEncoder()\n",
    "encoded_data = pd.DataFrame(encoder.fit_transform(data[['Gender', 'Education Level', 'Employment Status']]), columns=['Gender_ordinal', 'Education Level_ordinal', 'Employment Status_ordinal'])\n",
    "\n",
    "# Target encoding\n",
    "def target_encode(data, column, target):\n",
    "    mean_target = data.groupby(column)[target].mean()\n",
    "    data[column + '_target_encoded'] = data[column].map(mean_target)\n",
    "    return data\n",
    "\n",
    "encoded_data = target_encode(data, 'Gender', 'Target Variable')\n",
    "encoded_data = target_encode(encoded_data, 'Education Level', 'Target Variable')\n",
    "encoded_data = target_encode(encoded_data, 'Employment Status', 'Target Variable')"
   ]
  },
  {
   "cell_type": "markdown",
   "id": "7f102183",
   "metadata": {},
   "source": [
    "**[Q7]You are analyzing a dataset with two continuous variables, \"Temperature\" and \"Humidity\", and two categorical variables, \"Weather Condition\" (Sunny/Cloudy/Rainy) and \"Wind Direction\" (North/South/ East/West). Calculate the covariance between each pair of variables and interpret the results.**"
   ]
  },
  {
   "cell_type": "markdown",
   "id": "ba0b9f45",
   "metadata": {},
   "source": [
    "Since covariance is typically calculated between continuous variables, it's not suitable for calculating the covariance between continuous and categorical variables. Covariance measures the degree to which two variables change together, and it's not meaningful to calculate it between a continuous variable and a categorical variable.\n",
    "\n",
    "For continuous variables like \"Temperature\" and \"Humidity,\" you can calculate the covariance using the formula:\n",
    "\n",
    "*cov(Temperature, Humidity) = Σ [ (Ti - T_mean) * (Hi - H_mean) ] / (n - 1)*\n",
    "\n",
    "Where Ti and Hi are individual data points, T_mean and H_mean are the means of Temperature and Humidity, and n is the number of data points.\n",
    "\n",
    "However, for categorical variables like \"Weather Condition\" and \"Wind Direction,\" calculating covariance is not appropriate. Instead, you might want to explore the relationship between the categorical and continuous variables using other methods such as ANOVA or t-tests for comparing means across different categories.\n",
    "\n",
    "If you're interested in understanding the relationship between the categorical and continuous variables, you could also use visualization techniques such as box plots or violin plots to see how the continuous variables vary across different categories of the categorical variables"
   ]
  },
  {
   "cell_type": "code",
   "execution_count": null,
   "id": "00026e9c",
   "metadata": {},
   "outputs": [],
   "source": []
  }
 ],
 "metadata": {
  "kernelspec": {
   "display_name": "Python 3 (ipykernel)",
   "language": "python",
   "name": "python3"
  },
  "language_info": {
   "codemirror_mode": {
    "name": "ipython",
    "version": 3
   },
   "file_extension": ".py",
   "mimetype": "text/x-python",
   "name": "python",
   "nbconvert_exporter": "python",
   "pygments_lexer": "ipython3",
   "version": "3.11.5"
  }
 },
 "nbformat": 4,
 "nbformat_minor": 5
}
