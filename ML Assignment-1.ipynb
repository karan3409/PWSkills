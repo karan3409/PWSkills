{
 "cells": [
  {
   "cell_type": "markdown",
   "id": "9b261d26",
   "metadata": {},
   "source": [
    "**Q1: Explain the following with an example:**\n",
    "\n",
    "**1)Artificial Intelligence**\n",
    "**2)Machine Learning**\n",
    "**3)Deep Learning**"
   ]
  },
  {
   "cell_type": "markdown",
   "id": "f9560709",
   "metadata": {},
   "source": [
    "1)Artificial Intelligence:\n",
    "- Artificial Intelligence (AI) refers to the development of computer systems that can perform tasks that typically require human intelligence. These tasks include learning, reasoning, problem-solving, understanding natural language, speech recognition, and visual perception. The ultimate goal of AI is to create machines that can mimic or simulate human intelligence to a certain extent.\n",
    "\n",
    "Example:One illustrative example of AI is Natural Language Processing (NLP) applications, such as language translation services. A specific case is the use of machine translation, where AI systems translate text or speech from one language to another without human intervention.\n",
    "\n",
    "2)Machine Learning:\n",
    "- Machine Learning is a subset of artificial intelligence that focuses on the development of algorithms and statistical models that enable computers to perform tasks without being explicitly programmed. ML systems learn from data and iteratively improve their performance over time. There are various types of machine learning, including supervised learning, unsupervised learning, and reinforcement learning.\n",
    "\n",
    "Example:A common example of machine learning is recommendation systems, like those used by Netflix or Amazon. These systems use machine learning algorithms to analyze a user's past behavior and preferences, and then recommend products or movies that the user might like.\n",
    "\n",
    "3)Deep Learning:\n",
    "- Deep Learning is a subfield of machine learning that involves the use of neural networks with multiple layers (deep neural networks) to model and solve complex problems. Deep learning algorithms attempt to learn hierarchical representations of data, automatically extracting features at different levels of abstraction. This approach has proven highly effective in tasks such as image and speech recognition, natural language processing, and more.\n",
    "\n",
    "Example: A common example of deep learning is image recognition, like the technology used in self-driving cars. These systems use deep learning algorithms to recognize and interpret complex patterns in visual data, allowing the car to recognize objects, signs, people, and other vehicles, and make decisions based on this information."
   ]
  },
  {
   "cell_type": "markdown",
   "id": "570a7e09",
   "metadata": {},
   "source": [
    "**[Q2] What is supervised learning? List some Examples of supervised learning.**"
   ]
  },
  {
   "cell_type": "markdown",
   "id": "beb65e8d",
   "metadata": {},
   "source": [
    "Supervised learning is a type of machine learning where the algorithm is trained on a labeled dataset, meaning that the training data includes both input features and their corresponding target labels. The goal is for the algorithm to learn the mapping from input features to the target labels, enabling it to make predictions or classifications on new, unseen data\n",
    "\n",
    "Examples of Supervised Learning:\n",
    "\n",
    "1)Linear Regression:\n",
    "\n",
    "- Objective: Predict a continuous numerical output based on input features.\n",
    "- Example: Predicting house prices based on features like square footage, number of bedrooms, and location.\n",
    "\n",
    "2)Logistic Regression:\n",
    "\n",
    "- Objective: Classify input into one of two classes (binary classification).\n",
    "- Example: Predicting whether an email is spam or not based on features like sender, subject, and content.\n",
    "\n",
    "3)Support Vector Machines (SVM):\n",
    "\n",
    "- Objective: Find a hyperplane that separates data into different classes.\n",
    "- Example: Classifying emails as spam or non-spam based on features like word frequencies.\n",
    "\n",
    "4)Decision Trees and Random Forests:\n",
    "\n",
    "- Objective: Make decisions based on features by creating a tree-like structure.\n",
    "- Example: Predicting whether a person is likely to buy a product based on demographic and purchase history"
   ]
  },
  {
   "cell_type": "markdown",
   "id": "3333b65c",
   "metadata": {},
   "source": [
    "**[Q3] What is unsupervised learning List some Examples of unsupervised learning.**"
   ]
  },
  {
   "cell_type": "markdown",
   "id": "4a587678",
   "metadata": {},
   "source": [
    "Unsupervised learning is a type of machine learning where the algorithm is not provided with labeled training data. Instead, the algorithm explores the inherent structure or patterns within the data without explicit guidance on the output. The goal is often to uncover hidden relationships, groupings, or representations within the data.\n",
    "\n",
    "Examples of Unsupervised Learning:\n",
    "\n",
    "1)Clustering:\n",
    "\n",
    "- Objective: Group similar data points together without predefined labels.\n",
    "- Example: K-Means clustering to group customers based on purchasing behavior.\n",
    "\n",
    "2)Dimensionality Reduction:\n",
    "\n",
    "- Objective: Reduce the number of features while retaining the important information in the data.\n",
    "- Example: Principal Component Analysis (PCA) for reducing the dimensionality of high-dimensional datasets.\n",
    "\n",
    "3)Association Rule Learning:\n",
    "\n",
    "- Objective: Discover interesting relationships between variables in large datasets.\n",
    "- Example: Apriori algorithm for identifying associations between products frequently purchased together in retail transactions.\n",
    "\n",
    "4)Generative Models:\n",
    "\n",
    "- Objective: Model the underlying distribution of the data to generate new, similar instances.\n",
    "- Example: Variational Autoencoders (VAEs) or Generative Adversarial Networks (GANs) for generating realistic images"
   ]
  },
  {
   "cell_type": "markdown",
   "id": "fdd3efd2",
   "metadata": {},
   "source": [
    "**[Q4] What is the difference between AI, ML, DL, and DS?**"
   ]
  },
  {
   "cell_type": "markdown",
   "id": "64a11ae0",
   "metadata": {},
   "source": [
    "Artificial Intelligence:\n",
    "- AI stands for Artificial Intelligence, and is basically the study/process which enables machines to mimic human behaviour through particular algorithm.\n",
    "- AI is the broader family consisting of ML and DL as it’s components.\n",
    "\n",
    "Machine Learning:\n",
    "- ML stands for Machine Learning, and is the study that uses statistical methods enabling machines to improve with experience.\n",
    "- ML is the subset of AI.\n",
    "\n",
    "Deep learning:\n",
    "- DL stands for Deep Learning, and is the study that makes use of Neural Networks(similar to neurons present in human brain) to imitate functionality just like a human brain.DL stands for Deep Learning, and is the study that makes use of Neural Networks(similar to neurons present in human brain) to imitate functionality just like a human brain.\n",
    "- DL is the subset of ML.\n",
    "\n",
    "Data Science:\n",
    "- Data Science is a multidisciplinary field that involves extracting insights and knowledge from structured and unstructured data.\n",
    "-  It encompasses a variety of techniques, including statistical analysis, machine learning, data visualization, and big data technologies.\n",
    "\n",
    "In summary, AI is the overarching field, ML is a subset of AI focusing on learning from data, DL is a subset of ML using deep neural networks, and DS involves the extraction of insights from data using various techniques."
   ]
  },
  {
   "cell_type": "markdown",
   "id": "5343ffb1",
   "metadata": {},
   "source": [
    "**[Q5]What are the main differences between supvervised, unsupervised, and semi-supervised learning?**"
   ]
  },
  {
   "cell_type": "markdown",
   "id": "b746676c",
   "metadata": {},
   "source": [
    "Supervised Learning:\n",
    " - Requires a labeled dataset with input features and corresponding target labels.\n",
    " - Aims to learn a mapping from input features to target labels for making predictions on new, unseen data.\n",
    " - Commonly used in tasks where labeled data is readily available, such as classification and regression.\n",
    " - Classification, regression, and tasks with clear target labels.\n",
    " \n",
    "Unsupervised Learning:\n",
    " - Works with an unlabeled dataset where only input features are provided.\n",
    " - Focuses on discovering patterns, relationships, or structures within the data without predefined output labels.\n",
    " -  Applied in scenarios where the structure or patterns within the data need to be explored, like clustering or dimensionality reduction.\n",
    " - Clustering, dimensionality reduction, and generative modeling.\n",
    " \n",
    "Semi-Supervised Learning:\n",
    " -  Utilizes a dataset that includes both labeled and unlabeled examples.\n",
    " -  Seeks to leverage both labeled and unlabeled data to improve model performance.\n",
    " - Useful when obtaining labeled data is challenging, expensive, or time-consuming, as it allows leveraging unlabeled data to supplement the learning process.\n",
    " - Utilizing both labeled and unlabeled data to improve model performance, often in real-world scenarios where acquiring labeled data is limited."
   ]
  },
  {
   "cell_type": "markdown",
   "id": "06ac64bf",
   "metadata": {},
   "source": [
    "**[Q6] What is train, test and validation split? Explain the importance of each term.**"
   ]
  },
  {
   "cell_type": "markdown",
   "id": "33d037b5",
   "metadata": {},
   "source": [
    "Training, Testing, and Validation Split refers to the method of dividing the dataset into three parts in order to train and evaluate a machine learning model.\n",
    "\n",
    "  1)Training Set: This is the portion of the dataset used to train the model. The model learns from this data, which includes       both the input data and the correct output.\n",
    "\n",
    "  2)Validation Set: This is the portion of the dataset used to provide an unbiased evaluation of a model fit on the training         dataset while tuning model hyperparameters (e.g., the number of hidden units in a neural network). The validation set is         used to prevent overfitting of the model during training. Overfitting occurs when the model learns the training data too         well and performs poorly on unseen data.\n",
    "\n",
    "  3)Test Set: This is the portion of the dataset used to provide an unbiased evaluation of the final model. The test set is used     after the model has been trained and validated, to assess how well the model will perform on unseen data.\n",
    "\n",
    "The importance of each set is as follows:\n",
    "\n",
    "  - The training set is important for learning the parameters of the model. It's where the model gets its learning data from.\n",
    "\n",
    "  - The validation set is important for tuning the hyperparameters of the model, and for early stopping to prevent overfitting. It provides a way to check the performance of the model on unseen data during training.\n",
    "\n",
    "  - The test set is important for providing an unbiased evaluation of the final model. It gives an estimate of the performance of the model on an independent dataset and serves as the final check before deploying the model.\n",
    "\n",
    "  - The typical split ratio might be 70:15:15 for train:validation:test, but it can vary depending on the size and nature of the dataset."
   ]
  },
  {
   "cell_type": "markdown",
   "id": "007d9fad",
   "metadata": {},
   "source": [
    "**[Q7] How can unsupervised learning be used in anomaly detection?**"
   ]
  },
  {
   "cell_type": "markdown",
   "id": "b46dbbe2",
   "metadata": {},
   "source": [
    "Unsupervised learning can be used in anomaly detection by modeling the normal data distribution and defining a measurement in this space to classify samples as anomalous or normal. In high-dimensional data, distances in the original space quickly lose descriptive power, so a mapping to some more suitable space is required.\n",
    "\n",
    " Here's a general approach:\n",
    "\n",
    "   1.Model Normal Behavior: The unsupervised learning model is trained on a dataset, and it learns to understand the normal patterns or structures in the data. This could be done using clustering algorithms (like K-means), neural networks (like autoencoders), or other methods.\n",
    "\n",
    "   2.Detect Anomalies: Once the model has learned what \"normal\" data looks like, it can then be used to detect anomalies. This is typically done by measuring how much a new data point deviates from the normal pattern that the model has learned. If the deviation is above a certain threshold, the data point is flagged as an anomaly.\n",
    "\n",
    "For example, in credit card fraud detection, an unsupervised learning model could be trained on a dataset of normal transactions. The model would learn the typical patterns of spending behavior. Then, if a new transaction deviates significantly from this normal pattern (e.g., a large purchase in a foreign country), the model could flag this as a potential fraud.\n",
    "\n",
    "This approach allows for the detection of anomalies that were not known or defined at the time of model training, making it a powerful tool for detecting novel or rare events."
   ]
  },
  {
   "cell_type": "markdown",
   "id": "520e2a53",
   "metadata": {},
   "source": [
    "**[Q8] List down some commonly used supervised learning algorithms and unsupervised learning algorithms.**"
   ]
  },
  {
   "cell_type": "markdown",
   "id": "0d2fa111",
   "metadata": {},
   "source": [
    "**Supervised Learning Algorithms:**\n",
    "\n",
    "1)Linear Regression: Used for predicting a continuous outcome variable (regression) based on one or more predictor variables.\n",
    "\n",
    "2)Logistic Regression: Used for predicting a categorical outcome variable (classification) based on one or more predictor variables.\n",
    "\n",
    "3)Decision Trees: Used for regression and classification tasks. They split the data based on different conditions, forming a tree-like model of decisions.\n",
    "\n",
    "4)Random Forest: An ensemble method that uses multiple decision trees to make predictions.\n",
    "\n",
    "5)Support Vector Machines (SVM): Used for classification and regression tasks. They find the hyperplane that best separates different classes in the data.\n",
    "\n",
    "6)Naive Bayes: A classification technique based on applying Bayes' theorem with strong (naive) independence assumptions between the features.\n",
    "\n",
    "7)K-Nearest Neighbors (KNN): Used for classification and regression tasks. It makes predictions based on the k most similar instances in the training data.\n",
    "\n",
    "8)Neural Networks: Can be used for both regression and classification tasks. They model the data using layers of neurons, inspired by the human brain.\n",
    "\n",
    "**Unsupervised Learning Algorithm:**\n",
    "\n",
    "1)K-Means Clustering: Used to partition the data into k clusters, where each data point belongs to the cluster with the nearest mean.\n",
    "\n",
    "2)Hierarchical Clustering: Used to build a hierarchy of clusters, represented as a tree (or dendrogram).\n",
    "\n",
    "3)DBSCAN (Density-Based Spatial Clustering of Applications with Noise): A density-based clustering algorithm, where clusters are defined as areas of high density.\n",
    "\n",
    "4)Principal Component Analysis (PCA): A dimensionality reduction technique that transforms the data into a new coordinate system such that the greatest variance lies on the first coordinate (the first principal component), the second greatest variance on the second coordinate, and so on.\n",
    "\n",
    "5)Autoencoders: A type of neural network used for learning efficient codings of input data. They are typically used for dimensionality reduction or denoising data.\n",
    "\n",
    "6)Association Rules (like Apriori and Eclat): Used for discovering interesting relations between variables in large databases, often used in market basket analysis."
   ]
  },
  {
   "cell_type": "code",
   "execution_count": null,
   "id": "55c551c7",
   "metadata": {},
   "outputs": [],
   "source": []
  }
 ],
 "metadata": {
  "kernelspec": {
   "display_name": "Python 3 (ipykernel)",
   "language": "python",
   "name": "python3"
  },
  "language_info": {
   "codemirror_mode": {
    "name": "ipython",
    "version": 3
   },
   "file_extension": ".py",
   "mimetype": "text/x-python",
   "name": "python",
   "nbconvert_exporter": "python",
   "pygments_lexer": "ipython3",
   "version": "3.11.5"
  }
 },
 "nbformat": 4,
 "nbformat_minor": 5
}
